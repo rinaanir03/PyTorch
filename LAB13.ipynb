{
  "nbformat": 4,
  "nbformat_minor": 0,
  "metadata": {
    "colab": {
      "provenance": []
    },
    "kernelspec": {
      "name": "python3",
      "display_name": "Python 3"
    },
    "language_info": {
      "name": "python"
    },
    "accelerator": "GPU",
    "gpuClass": "standard"
  },
  "cells": [
    {
      "cell_type": "markdown",
      "source": [
        "## Sprawozdanie z lab 13"
      ],
      "metadata": {
        "id": "fMGvskfGnMGw"
      }
    },
    {
      "cell_type": "markdown",
      "source": [
        "Zaimplementuj w Google Colab w bibliotece PyTorch program z wykorzystaniem tensorów, w\n",
        "którym obliczysz pole okręgu na podstawie algorytmu Monte Carlo. Program powinien\n",
        "posiadać 2 wersje -> na CPU i GPU. Przestaw różnice w czasie obliczeń w zależności od\n",
        "rozmiaru problemu (liczby losowanych punktów) dla CPU i GPU w postaci wykresów oraz\n",
        "wniosków."
      ],
      "metadata": {
        "id": "78AEVQHYndBn"
      }
    },
    {
      "cell_type": "markdown",
      "source": [
        "Importujemy biblioteki, potrzebne do rozwiazania danego zadania\n",
        "PyTorch to biblioteka oprogramowania Python do uczenia maszynowego typu open source , która opiera się na Torch  (in) opracowanym przez Facebooka .\n",
        "\n",
        "PyTorch umożliwia wykonanie obliczeń tensorowych niezbędnych w szczególności przy głębokim uczeniu się . Obliczenia te są optymalizowane i wykonywane przez procesor (CPU) lub, jeśli to możliwe, przez procesor graficzny ( GPU ) obsługujący CUDA . "
      ],
      "metadata": {
        "id": "c00Oo1UVnn60"
      }
    },
    {
      "cell_type": "markdown",
      "source": [],
      "metadata": {
        "id": "fl_ssNJQpHju"
      }
    },
    {
      "cell_type": "code",
      "execution_count": 2,
      "metadata": {
        "id": "aPu1djusmeSE"
      },
      "outputs": [],
      "source": [
        "import torch\n",
        "import matplotlib.pyplot as plt\n",
        "import time as timer"
      ]
    },
    {
      "cell_type": "markdown",
      "source": [
        "Ten kawalek kodu jest funkcja, z liczba losowanych punktow i sposobem obliczen"
      ],
      "metadata": {
        "id": "N9t-H14eqUYi"
      }
    },
    {
      "cell_type": "code",
      "source": [
        "def monte_carlo(n, device):\n",
        "  # Generuj losowe punkty w zakresie (-1, 1)\n",
        "  x = 2 * torch.rand(n, 2, device=device) - 1\n",
        "\n",
        "  # Oblicz odległość punktów od środka\n",
        "  distance = torch.sqrt(x[:, 0] ** 2 + x[:, 1] ** 2)\n",
        "\n",
        "  # Zlicz liczbę punktów w środku okręgu\n",
        "  in_circle = (distance <= 1).sum().float()\n",
        "\n",
        "  # Oblicz pole okręgu\n",
        "  area = 4 * in_circle / n\n",
        "\n",
        "  return area"
      ],
      "metadata": {
        "id": "fu1pGa44nxH7"
      },
      "execution_count": 3,
      "outputs": []
    },
    {
      "cell_type": "markdown",
      "source": [
        "Tutaj wprowadzamy nasze wartosci i mierzemy czas dla CPU i GPU"
      ],
      "metadata": {
        "id": "uRoyTLgpotkv"
      }
    },
    {
      "cell_type": "code",
      "source": [
        "n_values = [10, 100, 1000, 10000, 100000, 1000000, 10000000]\n",
        "times_cpu = []\n",
        "times_gpu = []\n",
        "\n",
        "for n in n_values:\n",
        "  # Obliczenia na CPU\n",
        "  start = timer.time()\n",
        "  area_cpu = monte_carlo(n, torch.device(\"cpu\"))\n",
        "  print(\"CPU - pole dla n =\", n, \" wynosi:\", area_cpu)\n",
        "  end = timer.time()\n",
        "  times_cpu.append(end - start)\n",
        "\n",
        "  # Obliczenia na GPU\n",
        "  start = timer.time()\n",
        "  area_gpu = monte_carlo(n, torch.device(\"cuda\"))\n",
        "  print(\"GPU - pole dla n =\", n, \" wynosi:\", area_gpu)\n",
        "  end = timer.time()\n",
        "  times_gpu.append(end - start)"
      ],
      "metadata": {
        "colab": {
          "base_uri": "https://localhost:8080/"
        },
        "id": "POV-v9wQouQb",
        "outputId": "884866aa-b5a7-4fd1-da5e-940c7f971a88"
      },
      "execution_count": 4,
      "outputs": [
        {
          "output_type": "stream",
          "name": "stdout",
          "text": [
            "CPU - pole dla n = 10  wynosi: tensor(2.4000)\n",
            "GPU - pole dla n = 10  wynosi: tensor(3.6000, device='cuda:0')\n",
            "CPU - pole dla n = 100  wynosi: tensor(2.9600)\n",
            "GPU - pole dla n = 100  wynosi: tensor(3., device='cuda:0')\n",
            "CPU - pole dla n = 1000  wynosi: tensor(3.0840)\n",
            "GPU - pole dla n = 1000  wynosi: tensor(3.2000, device='cuda:0')\n",
            "CPU - pole dla n = 10000  wynosi: tensor(3.1560)\n",
            "GPU - pole dla n = 10000  wynosi: tensor(3.1552, device='cuda:0')\n",
            "CPU - pole dla n = 100000  wynosi: tensor(3.1361)\n",
            "GPU - pole dla n = 100000  wynosi: tensor(3.1354, device='cuda:0')\n",
            "CPU - pole dla n = 1000000  wynosi: tensor(3.1405)\n",
            "GPU - pole dla n = 1000000  wynosi: tensor(3.1418, device='cuda:0')\n",
            "CPU - pole dla n = 10000000  wynosi: tensor(3.1413)\n",
            "GPU - pole dla n = 10000000  wynosi: tensor(3.1425, device='cuda:0')\n"
          ]
        }
      ]
    },
    {
      "cell_type": "markdown",
      "source": [
        "Ten kod sluzy do wyswietlenia wynikow w postaci wykresu"
      ],
      "metadata": {
        "id": "LqBlnXcfrTN7"
      }
    },
    {
      "cell_type": "code",
      "source": [
        "plt.plot(n_values, times_cpu, label='CPU')\n",
        "plt.plot(n_values, times_gpu, label='GPU')\n",
        "plt.xscale('log')\n",
        "plt.yscale('log')\n",
        "plt.xlabel('Liczba losowanych punktów')\n",
        "plt.ylabel('Czas obliczeń [s]')\n",
        "plt.legend()\n",
        "plt.show()"
      ],
      "metadata": {
        "colab": {
          "base_uri": "https://localhost:8080/",
          "height": 284
        },
        "id": "DbUEvuLirSlN",
        "outputId": "a79bc1bd-c7ce-4e37-fdf8-118694c54d58"
      },
      "execution_count": 5,
      "outputs": [
        {
          "output_type": "display_data",
          "data": {
            "text/plain": [
              "<Figure size 432x288 with 1 Axes>"
            ],
            "image/png": "[encoded data removed]"
          },
          "metadata": {
            "needs_background": "light"
          }
        }
      ]
    }
  ]
}